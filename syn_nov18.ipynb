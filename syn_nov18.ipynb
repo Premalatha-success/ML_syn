{
 "cells": [
  {
   "cell_type": "code",
   "execution_count": null,
   "id": "f2b27ec7-f080-4cfb-8593-98924c7d1f32",
   "metadata": {},
   "outputs": [],
   "source": [
    "import numpy as np\n",
    "import pandas as pd\n",
    "import matplotlib.pyplot as plt\n",
    "import seaborn as sns"
   ]
  },
  {
   "cell_type": "code",
   "execution_count": null,
   "id": "99db0652-95ba-4aed-abef-9e0057d27c83",
   "metadata": {},
   "outputs": [],
   "source": [
    "df=pd.read_csv(\"CardioGoodFitness-1 (1).csv\")"
   ]
  },
  {
   "cell_type": "code",
   "execution_count": null,
   "id": "42dec589-876c-4eb3-8516-e6a0f6b10d09",
   "metadata": {},
   "outputs": [],
   "source": [
    "df.head()"
   ]
  },
  {
   "cell_type": "code",
   "execution_count": null,
   "id": "e0604e53-10a3-4339-ad72-7d97318a5a77",
   "metadata": {},
   "outputs": [],
   "source": [
    "df.head(10)"
   ]
  },
  {
   "cell_type": "code",
   "execution_count": null,
   "id": "6dcc7afc-16d3-4f1a-b458-0d6fd0742c49",
   "metadata": {},
   "outputs": [],
   "source": [
    "df.tail()"
   ]
  },
  {
   "cell_type": "code",
   "execution_count": null,
   "id": "9b9471f8-a467-4a4e-a47f-ae1f792f14bb",
   "metadata": {},
   "outputs": [],
   "source": [
    "df.sample(10)"
   ]
  },
  {
   "cell_type": "code",
   "execution_count": null,
   "id": "e45ac4a2-e060-4ce8-9fc5-4d18c69b86c8",
   "metadata": {},
   "outputs": [],
   "source": [
    "df.shape"
   ]
  },
  {
   "cell_type": "code",
   "execution_count": null,
   "id": "8d2e7fda-bc37-44dc-8e0b-4a13e234f09d",
   "metadata": {},
   "outputs": [],
   "source": [
    "df.info()"
   ]
  },
  {
   "cell_type": "code",
   "execution_count": null,
   "id": "cc855728-c6c1-4162-bff5-35d53e9dd5c9",
   "metadata": {},
   "outputs": [],
   "source": [
    "df.describe()"
   ]
  },
  {
   "cell_type": "code",
   "execution_count": null,
   "id": "cda1d91e-f687-4756-ae14-452e9c58ff24",
   "metadata": {},
   "outputs": [],
   "source": [
    "df.describe(include=\"all\")"
   ]
  },
  {
   "cell_type": "code",
   "execution_count": null,
   "id": "d924b795-8792-44a5-bb55-3fce4a48ee8f",
   "metadata": {},
   "outputs": [],
   "source": [
    "sns.countplot(x=\"Product\",data=df)"
   ]
  },
  {
   "cell_type": "code",
   "execution_count": null,
   "id": "90c61b67-0eb9-4bf6-b2e8-6d53ad3e967f",
   "metadata": {},
   "outputs": [],
   "source": [
    "sns.countplot(x=\"Gender\",data=df)"
   ]
  },
  {
   "cell_type": "code",
   "execution_count": null,
   "id": "175da10f-a67b-4c19-b7db-30ba2309bd1f",
   "metadata": {},
   "outputs": [],
   "source": [
    "sns.countplot(x=\"MaritalStatus\",data=df)"
   ]
  },
  {
   "cell_type": "code",
   "execution_count": null,
   "id": "ab2e655f-2c90-491c-a467-7fa2f3ae56fb",
   "metadata": {},
   "outputs": [],
   "source": [
    "df.hist(figsize=(10,10))\n",
    "plt.show()"
   ]
  },
  {
   "cell_type": "code",
   "execution_count": null,
   "id": "181c7260-a442-406c-90a6-0401b056bed7",
   "metadata": {},
   "outputs": [],
   "source": [
    "sns.boxplot(x=\"Age\",data=df)"
   ]
  },
  {
   "cell_type": "code",
   "execution_count": null,
   "id": "3c625eee-38e3-42e9-b879-353cb314fe52",
   "metadata": {},
   "outputs": [],
   "source": [
    "sns.boxplot(x=\"Fitness\",data=df)"
   ]
  },
  {
   "cell_type": "code",
   "execution_count": null,
   "id": "a53b1007-12db-4a98-a6ab-fcf877e9ee98",
   "metadata": {},
   "outputs": [],
   "source": [
    "sns.boxplot(x=\"Usage\",data=df)"
   ]
  },
  {
   "cell_type": "code",
   "execution_count": null,
   "id": "b09da6d0-57d9-44f3-8ba6-455b64d998ef",
   "metadata": {},
   "outputs": [],
   "source": [
    "sns.countplot(x=\"Product\",hue=\"Gender\",data=df)"
   ]
  },
  {
   "cell_type": "code",
   "execution_count": null,
   "id": "9f6bc2ae-4945-4ee1-9176-d5e960b2e39f",
   "metadata": {},
   "outputs": [],
   "source": [
    "sns.boxplot(x=\"Product\",y=\"Age\",data=df)"
   ]
  },
  {
   "cell_type": "code",
   "execution_count": null,
   "id": "3bf144da-93ec-4aa9-a6fe-25fcd83493c8",
   "metadata": {},
   "outputs": [],
   "source": [
    "sns.boxplot(x=\"Product\",y=\"Education\",data=df)"
   ]
  },
  {
   "cell_type": "code",
   "execution_count": null,
   "id": "faf67b03-1a98-42f9-a353-88b349f15fc1",
   "metadata": {},
   "outputs": [],
   "source": [
    "sns.boxplot(x=\"Product\",y=\"Fitness\",data=df)"
   ]
  },
  {
   "cell_type": "code",
   "execution_count": null,
   "id": "1444cf37-7b51-4792-8686-c5e44b72c531",
   "metadata": {},
   "outputs": [],
   "source": [
    "sns.boxplot(x=\"Product\",y=\"Income\",data=df)"
   ]
  },
  {
   "cell_type": "code",
   "execution_count": null,
   "id": "c5387a3c-4362-4cc5-b892-873e939fee25",
   "metadata": {},
   "outputs": [],
   "source": [
    "sns.boxplot(x=\"Product\",y=\"Age\",hue=\"Gender\",data=df)"
   ]
  },
  {
   "cell_type": "code",
   "execution_count": null,
   "id": "86b5e47b-8947-4b7c-9014-45c30e9c089e",
   "metadata": {},
   "outputs": [],
   "source": [
    "sns.boxplot(x=\"Product\",y=\"Income\",hue=\"Gender\",data=df)"
   ]
  },
  {
   "cell_type": "code",
   "execution_count": null,
   "id": "31cec42f-f217-4a17-8ad6-f3eb0c56ac74",
   "metadata": {},
   "outputs": [],
   "source": [
    "sns.swarmplot(x=\"Product\",y=\"Age\",hue=\"Gender\",data=df)"
   ]
  },
  {
   "cell_type": "code",
   "execution_count": null,
   "id": "56f3ae46-254e-4acc-aa3b-f4707b22ba5e",
   "metadata": {},
   "outputs": [],
   "source": []
  },
  {
   "cell_type": "code",
   "execution_count": null,
   "id": "ed8b587c-05ff-471b-9b16-376a2c16d893",
   "metadata": {},
   "outputs": [],
   "source": [
    "sns.violinplot(x=\"Product\",y=\"Age\",hue=\"Gender\",data=df)"
   ]
  },
  {
   "cell_type": "code",
   "execution_count": null,
   "id": "ecef203e-3c8d-4027-9973-5caaab1a1b48",
   "metadata": {},
   "outputs": [],
   "source": [
    "sns.swarmplot(x=\"Product\",y=\"Age\",hue=\"Gender\",data=df)"
   ]
  },
  {
   "cell_type": "code",
   "execution_count": null,
   "id": "30e06022-9dca-40c4-a731-bc021b959e0a",
   "metadata": {},
   "outputs": [],
   "source": [
    "sns.pairplot(df)\n",
    "plt.show()"
   ]
  },
  {
   "cell_type": "code",
   "execution_count": null,
   "id": "58e7862c-c9af-48b2-829e-22e125882422",
   "metadata": {},
   "outputs": [],
   "source": [
    "df.corr(numeric_only=True)"
   ]
  },
  {
   "cell_type": "code",
   "execution_count": null,
   "id": "3ddfcfc3-caa1-42f6-bfdb-a9cbf56dcfea",
   "metadata": {},
   "outputs": [],
   "source": [
    "### "
   ]
  }
 ],
 "metadata": {
  "kernelspec": {
   "display_name": "Python 3 (ipykernel)",
   "language": "python",
   "name": "python3"
  },
  "language_info": {
   "codemirror_mode": {
    "name": "ipython",
    "version": 3
   },
   "file_extension": ".py",
   "mimetype": "text/x-python",
   "name": "python",
   "nbconvert_exporter": "python",
   "pygments_lexer": "ipython3",
   "version": "3.11.7"
  }
 },
 "nbformat": 4,
 "nbformat_minor": 5
}
